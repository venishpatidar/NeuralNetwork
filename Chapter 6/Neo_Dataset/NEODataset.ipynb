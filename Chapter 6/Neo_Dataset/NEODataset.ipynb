{
 "cells": [
  {
   "cell_type": "code",
   "execution_count": 1,
   "metadata": {},
   "outputs": [
    {
     "name": "stderr",
     "output_type": "stream",
     "text": [
      "d:\\Anaconda\\lib\\site-packages\\pandas\\compat\\_optional.py:138: UserWarning: Pandas requires version '2.7.0' or newer of 'numexpr' (version '2.6.9' currently installed).\n",
      "  warnings.warn(msg, UserWarning)\n",
      "d:\\Anaconda\\lib\\site-packages\\statsmodels\\tools\\_testing.py:19: FutureWarning: pandas.util.testing is deprecated. Use the functions in the public API at pandas.testing instead.\n",
      "  import pandas.util.testing as tm\n"
     ]
    }
   ],
   "source": [
    "import numpy as np \n",
    "import pandas as pd\n",
    "from sklearn.metrics import accuracy_score\n",
    "from sklearn.model_selection import train_test_split\n",
    "from sklearn.preprocessing import StandardScaler,LabelEncoder\n",
    "from collections import Counter\n",
    "import seaborn as sns\n",
    "import matplotlib.pyplot as plt\n",
    "from sklearn.utils import shuffle\n"
   ]
  },
  {
   "cell_type": "code",
   "execution_count": 2,
   "metadata": {},
   "outputs": [
    {
     "data": {
      "text/html": [
       "<div>\n",
       "<style scoped>\n",
       "    .dataframe tbody tr th:only-of-type {\n",
       "        vertical-align: middle;\n",
       "    }\n",
       "\n",
       "    .dataframe tbody tr th {\n",
       "        vertical-align: top;\n",
       "    }\n",
       "\n",
       "    .dataframe thead th {\n",
       "        text-align: right;\n",
       "    }\n",
       "</style>\n",
       "<table border=\"1\" class=\"dataframe\">\n",
       "  <thead>\n",
       "    <tr style=\"text-align: right;\">\n",
       "      <th></th>\n",
       "      <th>id</th>\n",
       "      <th>name</th>\n",
       "      <th>est_diameter_min</th>\n",
       "      <th>est_diameter_max</th>\n",
       "      <th>relative_velocity</th>\n",
       "      <th>miss_distance</th>\n",
       "      <th>orbiting_body</th>\n",
       "      <th>sentry_object</th>\n",
       "      <th>absolute_magnitude</th>\n",
       "      <th>hazardous</th>\n",
       "    </tr>\n",
       "  </thead>\n",
       "  <tbody>\n",
       "    <tr>\n",
       "      <th>0</th>\n",
       "      <td>2162635</td>\n",
       "      <td>162635 (2000 SS164)</td>\n",
       "      <td>1.198271</td>\n",
       "      <td>2.679415</td>\n",
       "      <td>13569.249224</td>\n",
       "      <td>5.483974e+07</td>\n",
       "      <td>Earth</td>\n",
       "      <td>False</td>\n",
       "      <td>16.73</td>\n",
       "      <td>False</td>\n",
       "    </tr>\n",
       "    <tr>\n",
       "      <th>1</th>\n",
       "      <td>2277475</td>\n",
       "      <td>277475 (2005 WK4)</td>\n",
       "      <td>0.265800</td>\n",
       "      <td>0.594347</td>\n",
       "      <td>73588.726663</td>\n",
       "      <td>6.143813e+07</td>\n",
       "      <td>Earth</td>\n",
       "      <td>False</td>\n",
       "      <td>20.00</td>\n",
       "      <td>True</td>\n",
       "    </tr>\n",
       "    <tr>\n",
       "      <th>2</th>\n",
       "      <td>2512244</td>\n",
       "      <td>512244 (2015 YE18)</td>\n",
       "      <td>0.722030</td>\n",
       "      <td>1.614507</td>\n",
       "      <td>114258.692129</td>\n",
       "      <td>4.979872e+07</td>\n",
       "      <td>Earth</td>\n",
       "      <td>False</td>\n",
       "      <td>17.83</td>\n",
       "      <td>False</td>\n",
       "    </tr>\n",
       "    <tr>\n",
       "      <th>3</th>\n",
       "      <td>3596030</td>\n",
       "      <td>(2012 BV13)</td>\n",
       "      <td>0.096506</td>\n",
       "      <td>0.215794</td>\n",
       "      <td>24764.303138</td>\n",
       "      <td>2.543497e+07</td>\n",
       "      <td>Earth</td>\n",
       "      <td>False</td>\n",
       "      <td>22.20</td>\n",
       "      <td>False</td>\n",
       "    </tr>\n",
       "    <tr>\n",
       "      <th>4</th>\n",
       "      <td>3667127</td>\n",
       "      <td>(2014 GE35)</td>\n",
       "      <td>0.255009</td>\n",
       "      <td>0.570217</td>\n",
       "      <td>42737.733765</td>\n",
       "      <td>4.627557e+07</td>\n",
       "      <td>Earth</td>\n",
       "      <td>False</td>\n",
       "      <td>20.09</td>\n",
       "      <td>True</td>\n",
       "    </tr>\n",
       "    <tr>\n",
       "      <th>...</th>\n",
       "      <td>...</td>\n",
       "      <td>...</td>\n",
       "      <td>...</td>\n",
       "      <td>...</td>\n",
       "      <td>...</td>\n",
       "      <td>...</td>\n",
       "      <td>...</td>\n",
       "      <td>...</td>\n",
       "      <td>...</td>\n",
       "      <td>...</td>\n",
       "    </tr>\n",
       "    <tr>\n",
       "      <th>90831</th>\n",
       "      <td>3763337</td>\n",
       "      <td>(2016 VX1)</td>\n",
       "      <td>0.026580</td>\n",
       "      <td>0.059435</td>\n",
       "      <td>52078.886692</td>\n",
       "      <td>1.230039e+07</td>\n",
       "      <td>Earth</td>\n",
       "      <td>False</td>\n",
       "      <td>25.00</td>\n",
       "      <td>False</td>\n",
       "    </tr>\n",
       "    <tr>\n",
       "      <th>90832</th>\n",
       "      <td>3837603</td>\n",
       "      <td>(2019 AD3)</td>\n",
       "      <td>0.016771</td>\n",
       "      <td>0.037501</td>\n",
       "      <td>46114.605073</td>\n",
       "      <td>5.432121e+07</td>\n",
       "      <td>Earth</td>\n",
       "      <td>False</td>\n",
       "      <td>26.00</td>\n",
       "      <td>False</td>\n",
       "    </tr>\n",
       "    <tr>\n",
       "      <th>90833</th>\n",
       "      <td>54017201</td>\n",
       "      <td>(2020 JP3)</td>\n",
       "      <td>0.031956</td>\n",
       "      <td>0.071456</td>\n",
       "      <td>7566.807732</td>\n",
       "      <td>2.840077e+07</td>\n",
       "      <td>Earth</td>\n",
       "      <td>False</td>\n",
       "      <td>24.60</td>\n",
       "      <td>False</td>\n",
       "    </tr>\n",
       "    <tr>\n",
       "      <th>90834</th>\n",
       "      <td>54115824</td>\n",
       "      <td>(2021 CN5)</td>\n",
       "      <td>0.007321</td>\n",
       "      <td>0.016370</td>\n",
       "      <td>69199.154484</td>\n",
       "      <td>6.869206e+07</td>\n",
       "      <td>Earth</td>\n",
       "      <td>False</td>\n",
       "      <td>27.80</td>\n",
       "      <td>False</td>\n",
       "    </tr>\n",
       "    <tr>\n",
       "      <th>90835</th>\n",
       "      <td>54205447</td>\n",
       "      <td>(2021 TW7)</td>\n",
       "      <td>0.039862</td>\n",
       "      <td>0.089133</td>\n",
       "      <td>27024.455553</td>\n",
       "      <td>5.977213e+07</td>\n",
       "      <td>Earth</td>\n",
       "      <td>False</td>\n",
       "      <td>24.12</td>\n",
       "      <td>False</td>\n",
       "    </tr>\n",
       "  </tbody>\n",
       "</table>\n",
       "<p>90836 rows × 10 columns</p>\n",
       "</div>"
      ],
      "text/plain": [
       "             id                 name  est_diameter_min  est_diameter_max  \\\n",
       "0       2162635  162635 (2000 SS164)          1.198271          2.679415   \n",
       "1       2277475    277475 (2005 WK4)          0.265800          0.594347   \n",
       "2       2512244   512244 (2015 YE18)          0.722030          1.614507   \n",
       "3       3596030          (2012 BV13)          0.096506          0.215794   \n",
       "4       3667127          (2014 GE35)          0.255009          0.570217   \n",
       "...         ...                  ...               ...               ...   \n",
       "90831   3763337           (2016 VX1)          0.026580          0.059435   \n",
       "90832   3837603           (2019 AD3)          0.016771          0.037501   \n",
       "90833  54017201           (2020 JP3)          0.031956          0.071456   \n",
       "90834  54115824           (2021 CN5)          0.007321          0.016370   \n",
       "90835  54205447           (2021 TW7)          0.039862          0.089133   \n",
       "\n",
       "       relative_velocity  miss_distance orbiting_body  sentry_object  \\\n",
       "0           13569.249224   5.483974e+07         Earth          False   \n",
       "1           73588.726663   6.143813e+07         Earth          False   \n",
       "2          114258.692129   4.979872e+07         Earth          False   \n",
       "3           24764.303138   2.543497e+07         Earth          False   \n",
       "4           42737.733765   4.627557e+07         Earth          False   \n",
       "...                  ...            ...           ...            ...   \n",
       "90831       52078.886692   1.230039e+07         Earth          False   \n",
       "90832       46114.605073   5.432121e+07         Earth          False   \n",
       "90833        7566.807732   2.840077e+07         Earth          False   \n",
       "90834       69199.154484   6.869206e+07         Earth          False   \n",
       "90835       27024.455553   5.977213e+07         Earth          False   \n",
       "\n",
       "       absolute_magnitude  hazardous  \n",
       "0                   16.73      False  \n",
       "1                   20.00       True  \n",
       "2                   17.83      False  \n",
       "3                   22.20      False  \n",
       "4                   20.09       True  \n",
       "...                   ...        ...  \n",
       "90831               25.00      False  \n",
       "90832               26.00      False  \n",
       "90833               24.60      False  \n",
       "90834               27.80      False  \n",
       "90835               24.12      False  \n",
       "\n",
       "[90836 rows x 10 columns]"
      ]
     },
     "execution_count": 2,
     "metadata": {},
     "output_type": "execute_result"
    }
   ],
   "source": [
    "\n",
    "data=pd.read_csv('./neo_v2.csv')\n",
    "data"
   ]
  },
  {
   "cell_type": "code",
   "execution_count": 3,
   "metadata": {},
   "outputs": [],
   "source": [
    "data=pd.read_csv('./neo_v2.csv')\n",
    "data.drop([\"id\",\"name\",\"orbiting_body\",\"sentry_object\"], axis=1, inplace=True)"
   ]
  },
  {
   "cell_type": "markdown",
   "metadata": {},
   "source": [
    "## Unbalanced dataset"
   ]
  },
  {
   "cell_type": "code",
   "execution_count": 4,
   "metadata": {},
   "outputs": [
    {
     "name": "stdout",
     "output_type": "stream",
     "text": [
      "Y Shape (90836,)\n"
     ]
    },
    {
     "data": {
      "image/png": "[encoded data removed]",
      "text/plain": [
       "<Figure size 432x288 with 1 Axes>"
      ]
     },
     "metadata": {
      "needs_background": "light"
     },
     "output_type": "display_data"
    },
    {
     "data": {
      "text/plain": [
       "False    81996\n",
       "True      8840\n",
       "Name: hazardous, dtype: int64"
      ]
     },
     "execution_count": 4,
     "metadata": {},
     "output_type": "execute_result"
    }
   ],
   "source": [
    "y=data[\"hazardous\"]\n",
    "print(\"Y Shape\",y.shape)\n",
    "label=LabelEncoder()\n",
    "y=label.fit_transform(y)\n",
    "sns.countplot(x = y)\n",
    "plt.show()\n",
    "data['hazardous'].value_counts()"
   ]
  },
  {
   "cell_type": "code",
   "execution_count": 5,
   "metadata": {},
   "outputs": [],
   "source": [
    "data=data.sort_values('hazardous')\n",
    "data\n",
    "new_dataset_false=data[0:8000]\n",
    "new_dataset_true = data[82000:82000+8000]\n",
    "nd = pd.concat([new_dataset_false,new_dataset_true])\n",
    "processed_dataset = shuffle(nd)\n"
   ]
  },
  {
   "cell_type": "code",
   "execution_count": 6,
   "metadata": {},
   "outputs": [
    {
     "name": "stdout",
     "output_type": "stream",
     "text": [
      "X Shape (16000, 5)\n",
      "Y Shape (16000,)\n"
     ]
    }
   ],
   "source": [
    "x=processed_dataset.iloc[:,0:5]\n",
    "print(\"X Shape\",x.shape)\n",
    "y=processed_dataset[\"hazardous\"]\n",
    "print(\"Y Shape\",y.shape)\n",
    "label=LabelEncoder()\n",
    "y=label.fit_transform(y)"
   ]
  },
  {
   "cell_type": "markdown",
   "metadata": {},
   "source": [
    "## Balanced dataset "
   ]
  },
  {
   "cell_type": "code",
   "execution_count": 7,
   "metadata": {},
   "outputs": [
    {
     "data": {
      "image/png": "[encoded data removed]",
      "text/plain": [
       "<Figure size 432x288 with 1 Axes>"
      ]
     },
     "metadata": {
      "needs_background": "light"
     },
     "output_type": "display_data"
    },
    {
     "data": {
      "text/plain": [
       "False    8000\n",
       "True     8000\n",
       "Name: hazardous, dtype: int64"
      ]
     },
     "execution_count": 7,
     "metadata": {},
     "output_type": "execute_result"
    }
   ],
   "source": [
    "sns.countplot(x = y)\n",
    "plt.show()\n",
    "processed_dataset['hazardous'].value_counts()"
   ]
  },
  {
   "cell_type": "code",
   "execution_count": 8,
   "metadata": {},
   "outputs": [
    {
     "name": "stdout",
     "output_type": "stream",
     "text": [
      "(11200, 5)\n",
      "(4800, 5)\n"
     ]
    }
   ],
   "source": [
    "x_train,x_test,y_train,y_test=train_test_split(x,y,test_size=0.3)\n",
    "sc=StandardScaler()\n",
    "x_train=sc.fit_transform(x_train)\n",
    "x_test=sc.transform(x_test)\n",
    "\n",
    "print(x_train.shape)\n",
    "print(x_test.shape)"
   ]
  },
  {
   "cell_type": "code",
   "execution_count": 9,
   "metadata": {},
   "outputs": [
    {
     "name": "stdout",
     "output_type": "stream",
     "text": [
      "Train set bifurcation\n",
      "False 5572\n",
      "True 5628\n"
     ]
    },
    {
     "data": {
      "image/png": "[encoded data removed]",
      "text/plain": [
       "<Figure size 432x288 with 1 Axes>"
      ]
     },
     "metadata": {
      "needs_background": "light"
     },
     "output_type": "display_data"
    },
    {
     "name": "stdout",
     "output_type": "stream",
     "text": [
      "Test set bifurcation\n",
      "False 2428\n",
      "True 2372\n"
     ]
    },
    {
     "data": {
      "image/png": "[encoded data removed]",
      "text/plain": [
       "<Figure size 432x288 with 1 Axes>"
      ]
     },
     "metadata": {
      "needs_background": "light"
     },
     "output_type": "display_data"
    }
   ],
   "source": [
    "test_set_sparse = Counter(y_test)\n",
    "train_set_sparse = Counter(y_train)\n",
    "\n",
    "print(\"Train set bifurcation\")\n",
    "print(\"False\",train_set_sparse[0])\n",
    "print(\"True\",train_set_sparse[1])\n",
    "sns.countplot(x = y_train)\n",
    "plt.show()\n",
    "print(\"Test set bifurcation\")\n",
    "print(\"False\",test_set_sparse[0])\n",
    "print(\"True\",test_set_sparse[1])\n",
    "sns.countplot(x = y_test)\n",
    "plt.show()"
   ]
  },
  {
   "cell_type": "markdown",
   "metadata": {},
   "source": [
    "## Writing it to X_train_neo.csv X_test_neon.csv Y_train_neo.csv Y_test_neo.csv"
   ]
  },
  {
   "cell_type": "code",
   "execution_count": 11,
   "metadata": {},
   "outputs": [],
   "source": [
    "with open(\"X_TRAIN_NEO.csv\",'w') as f:\n",
    "  for x in x_train:\n",
    "    strin =\"\"\n",
    "    for y in x:\n",
    "      strin+=str(y)+\" \"\n",
    "    line = str(strin)+\"\\n\"\n",
    "    f.write(line)\n",
    "\n",
    "with open(\"X_TEST_NEO.csv\",'w') as f:\n",
    "  for x in x_test:\n",
    "    strin =\"\"\n",
    "    for y in x:\n",
    "      strin+=str(y)+\" \"\n",
    "    line = str(strin)+\"\\n\"\n",
    "    f.write(line)\n"
   ]
  },
  {
   "cell_type": "code",
   "execution_count": 12,
   "metadata": {},
   "outputs": [],
   "source": [
    "with open(\"Y_TRAIN_NEO.csv\",'w') as f:\n",
    "  for x in y_train:\n",
    "    line = str(x)+\"\\n\"\n",
    "    f.write(line)\n",
    "\n",
    "with open(\"Y_TEST_NEO.csv\",'w') as f:\n",
    "  for x in y_test:\n",
    "    line = str(x)+\"\\n\"\n",
    "    f.write(line)"
   ]
  },
  {
   "cell_type": "code",
   "execution_count": 13,
   "metadata": {},
   "outputs": [
    {
     "name": "stdout",
     "output_type": "stream",
     "text": [
      "Samples generated sucessfully\n",
      "Train Size 11200\n",
      "Test Size 4800\n"
     ]
    }
   ],
   "source": [
    "print(\"Samples generated sucessfully\")\n",
    "print(\"Train Size 11200\")\n",
    "print(\"Test Size 4800\")"
   ]
  },
  {
   "cell_type": "code",
   "execution_count": null,
   "metadata": {},
   "outputs": [],
   "source": []
  }
 ],
 "metadata": {
  "kernelspec": {
   "display_name": "Python 3.7.3 ('base')",
   "language": "python",
   "name": "python3"
  },
  "language_info": {
   "codemirror_mode": {
    "name": "ipython",
    "version": 3
   },
   "file_extension": ".py",
   "mimetype": "text/x-python",
   "name": "python",
   "nbconvert_exporter": "python",
   "pygments_lexer": "ipython3",
   "version": "3.7.3"
  },
  "orig_nbformat": 4,
  "vscode": {
   "interpreter": {
    "hash": "88279d2366fe020547cde40dd65aa0e3aa662a6ec1f3ca12d88834876c85e1a6"
   }
  }
 },
 "nbformat": 4,
 "nbformat_minor": 2
}
